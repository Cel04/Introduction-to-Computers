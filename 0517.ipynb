{
  "nbformat": 4,
  "nbformat_minor": 0,
  "metadata": {
    "colab": {
      "provenance": [],
      "authorship_tag": "ABX9TyPkRIqjvB57hd38mtNwYW4s",
      "include_colab_link": true
    },
    "kernelspec": {
      "name": "python3",
      "display_name": "Python 3"
    },
    "language_info": {
      "name": "python"
    }
  },
  "cells": [
    {
      "cell_type": "markdown",
      "metadata": {
        "id": "view-in-github",
        "colab_type": "text"
      },
      "source": [
        "<a href=\"https://colab.research.google.com/github/Cel04/Introduction-to-Computers/blob/main/0517.ipynb\" target=\"_parent\"><img src=\"https://colab.research.google.com/assets/colab-badge.svg\" alt=\"Open In Colab\"/></a>"
      ]
    },
    {
      "cell_type": "code",
      "execution_count": 1,
      "metadata": {
        "colab": {
          "base_uri": "https://localhost:8080/"
        },
        "id": "03uCYkXNHnPK",
        "outputId": "965d50af-376b-4398-853c-a883abe26696"
      },
      "outputs": [
        {
          "output_type": "stream",
          "name": "stdout",
          "text": [
            "0517\n"
          ]
        }
      ],
      "source": [
        "print(\"0517\")"
      ]
    },
    {
      "cell_type": "code",
      "source": [
        "score=int(input(\"score:\"))\n",
        "if score >= 90:\n",
        "  print('Grade is: A')\n",
        "elif score >= 80:\n",
        "  print('Grade is:B')\n",
        "elif score >= 70:\n",
        "  print('Grade is: C')\n",
        "elif score >= 60:\n",
        "  print('Grade is: D')\n",
        "else:\n",
        "  print('Grade is: F')  "
      ],
      "metadata": {
        "colab": {
          "base_uri": "https://localhost:8080/"
        },
        "id": "rdKmZxaXIPCw",
        "outputId": "8e19ee37-913d-41c0-d3f2-b5a2d834db44"
      },
      "execution_count": 3,
      "outputs": [
        {
          "output_type": "stream",
          "name": "stdout",
          "text": [
            "score:89\n",
            "Grade is:B\n"
          ]
        }
      ]
    },
    {
      "cell_type": "code",
      "source": [
        "rain=str(input(\"今天會下雨嗎？\"))\n",
        "if (rain==\"Y\"or rain==\"y\"):\n",
        "  print('記得帶傘')\n",
        "elif(rain==\"N\"or rain==\"n\"):\n",
        "  print('不用帶傘')\n",
        "else:\n",
        "  print(\"輸入錯誤請重新輸入\")"
      ],
      "metadata": {
        "colab": {
          "base_uri": "https://localhost:8080/"
        },
        "id": "I7gml1HaIRew",
        "outputId": "e23a845a-6f9a-4f61-8f6d-9304023074d1"
      },
      "execution_count": 4,
      "outputs": [
        {
          "output_type": "stream",
          "name": "stdout",
          "text": [
            "今天會下雨嗎？n\n",
            "不用帶傘\n"
          ]
        }
      ]
    },
    {
      "cell_type": "code",
      "source": [
        "體溫 = int(input(\"請輸入您的體溫\"))\n",
        "if 體溫 >= 37.5:\n",
        "  print('體溫過高')\n",
        "elif 體溫>=37 and 體溫<=37.4:\n",
        "  print(\"體溫略高!\")\n",
        "elif 體溫>=34 and 體溫<=36.9:\n",
        "  print(\"體溫正常!\")\n",
        "else:\n",
        "  print(\"體溫異常，請重新測量!\")"
      ],
      "metadata": {
        "colab": {
          "base_uri": "https://localhost:8080/"
        },
        "id": "T-rih2cmIXzX",
        "outputId": "41989132-4faf-45f5-8ca8-5f35d1ddd35f"
      },
      "execution_count": 5,
      "outputs": [
        {
          "output_type": "stream",
          "name": "stdout",
          "text": [
            "請輸入您的體溫38\n",
            "體溫過高\n"
          ]
        }
      ]
    },
    {
      "cell_type": "code",
      "source": [
        "score = int(input(\"請輸入成績\"))\n",
        "if score >= 90:\n",
        "    print('A')\n",
        "elif score >= 80:\n",
        "    print('B')\n",
        "elif score >= 70:\n",
        "    print('C')\n",
        "elif score >= 60:\n",
        "    print('D')\n",
        "else:\n",
        "    print('E')"
      ],
      "metadata": {
        "colab": {
          "base_uri": "https://localhost:8080/"
        },
        "id": "2ou-6_f0IcSa",
        "outputId": "7908eae6-3c50-4b7d-d24a-7a5579a44b01"
      },
      "execution_count": 6,
      "outputs": [
        {
          "output_type": "stream",
          "name": "stdout",
          "text": [
            "請輸入成績89\n",
            "B\n"
          ]
        }
      ]
    },
    {
      "cell_type": "code",
      "source": [
        "month=int(input(\"請輸入月份:\"))\n",
        "if month>=3 and month<=5:\n",
        "  print(month,\"月是春天!\")\n",
        "elif month>=6 and month<=8:\n",
        "  print(month,\"月是夏天!\")\n",
        "elif month>=9 and month<=11:\n",
        "  print(month,\"月秋天!\")\n",
        "elif month==12 or month<=2:\n",
        "  print(month,\"月是冬天!\")\n",
        "else:\n",
        "  print(\"月份不在範圍內!\")"
      ],
      "metadata": {
        "colab": {
          "base_uri": "https://localhost:8080/"
        },
        "id": "evmoXPpAIf41",
        "outputId": "8e5a5548-29fa-444b-b74e-f437aa7ff560"
      },
      "execution_count": 7,
      "outputs": [
        {
          "output_type": "stream",
          "name": "stdout",
          "text": [
            "請輸入月份:7\n",
            "7 月是夏天!\n"
          ]
        }
      ]
    },
    {
      "cell_type": "code",
      "source": [
        "tax=int(input(\"請輸入今年收入淨額\"))\n",
        "if tax>=2000000:\n",
        "  print(\"付稅金額:\",tax*0.3,\"元\")\n",
        "elif tax>=1000000 and tax<2000000:\n",
        "  print(\"付稅金額:\",tax*0.21,\"元\")\n",
        "elif tax>=600000 and tax<1000000:\n",
        "  print(\"付稅金額:\",tax*0.13,\"元\")\n",
        "elif tax>=300000 and tax<600000:\n",
        "  print(\"付稅金額:\",tax*0.06,\"元\")  \n",
        "else:\n",
        "  print(\"付稅金額:0元\")"
      ],
      "metadata": {
        "colab": {
          "base_uri": "https://localhost:8080/"
        },
        "id": "pCxim7pzIjyb",
        "outputId": "e4647ae8-0ee7-43bb-8f72-2974ff899f73"
      },
      "execution_count": 8,
      "outputs": [
        {
          "output_type": "stream",
          "name": "stdout",
          "text": [
            "請輸入今年收入淨額2000000\n",
            "付稅金額: 600000.0 元\n"
          ]
        }
      ]
    },
    {
      "cell_type": "code",
      "source": [],
      "metadata": {
        "id": "xVTWTzFjIngj"
      },
      "execution_count": null,
      "outputs": []
    }
  ]
}